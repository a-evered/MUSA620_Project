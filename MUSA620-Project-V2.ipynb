{
 "cells": [
  {
   "cell_type": "markdown",
   "metadata": {},
   "source": [
    "# MUSA620 Final Project"
   ]
  },
  {
   "cell_type": "markdown",
   "metadata": {},
   "source": [
    "## Set-up and Data Cleaning/Exploration"
   ]
  },
  {
   "cell_type": "markdown",
   "metadata": {},
   "source": [
    "### Load in Packages and Data"
   ]
  },
  {
   "cell_type": "code",
   "execution_count": null,
   "metadata": {},
   "outputs": [],
   "source": [
    "#Load in necessary packages \n",
    "import datetime\n",
    "import pandas as pd\n",
    "import glob\n",
    "import matplotlib as mpl\n",
    "import matplotlib.pyplot as plt\n",
    "from matplotlib import cycler\n",
    "import seaborn as sns\n",
    "import altair as alt\n",
    "from vega_datasets import data\n",
    "import hvplot.pandas\n",
    "import numpy as np\n",
    "\n",
    "import holoviews as hv\n",
    "from holoviews import opts\n",
    "hv.extension('bokeh')\n",
    "\n",
    "import os, numpy as np, pandas as pd, cartopy.crs as ccrs, bokeh\n",
    "import holoviews as hv, geoviews as gv, datashader as ds\n",
    "\n",
    "from colorcet import bmy\n",
    "from holoviews.util import Dynamic\n",
    "from holoviews.operation.datashader import rasterize, datashade\n",
    "\n",
    "from holoviews import opts, streams\n",
    "from holoviews.plotting.links import DataLink\n",
    "\n",
    "import param as pm\n",
    "import panel as pn\n",
    "from colorcet import cm"
   ]
  },
  {
   "cell_type": "code",
   "execution_count": null,
   "metadata": {},
   "outputs": [],
   "source": [
    "# Enable Altair and Holoviews rendering in the notebook\n",
    "alt.renderers.enable('notebook')\n",
    "hv.extension('bokeh')"
   ]
  },
  {
   "cell_type": "markdown",
   "metadata": {},
   "source": [
    "### Initial Data Preparation/Exploration of Pipeline Data\n",
    "\n"
   ]
  },
  {
   "cell_type": "code",
   "execution_count": null,
   "metadata": {},
   "outputs": [],
   "source": [
    "#Load in data\n",
    "pipeline_raw_data = pd.read_csv('database.csv')\n",
    "#pipeline_raw_data"
   ]
  },
  {
   "cell_type": "code",
   "execution_count": null,
   "metadata": {},
   "outputs": [],
   "source": [
    "#Remove 2017\n",
    "pipeline_df = pipeline_raw_data[pipeline_raw_data[\"Accident Year\"] != 2017]"
   ]
  },
  {
   "cell_type": "code",
   "execution_count": null,
   "metadata": {},
   "outputs": [],
   "source": [
    "pipeline_df.columns"
   ]
  },
  {
   "cell_type": "code",
   "execution_count": null,
   "metadata": {},
   "outputs": [],
   "source": [
    "pipeline_by_year_df = pipeline_df.groupby([\"Accident Year\"]).sum().reset_index()\n",
    "#pipeline_by_year_df"
   ]
  },
  {
   "cell_type": "code",
   "execution_count": null,
   "metadata": {},
   "outputs": [],
   "source": [
    "pipeline_by_state_df = pipeline_df.groupby([\"Accident State\"]).sum().reset_index()\n",
    "#pipeline_by_state_df"
   ]
  },
  {
   "cell_type": "markdown",
   "metadata": {},
   "source": [
    "### Visualizations Using Just Pipeline Data"
   ]
  },
  {
   "cell_type": "markdown",
   "metadata": {},
   "source": [
    "## How do the number of pipeline incidents vary by year (with breakdown by cause)?\n",
    "\n",
    "Bar chart showing number of incidents per year with a breakdown by type."
   ]
  },
  {
   "cell_type": "code",
   "execution_count": null,
   "metadata": {},
   "outputs": [],
   "source": [
    "incidents_by_year = pipeline_df.groupby([\"Accident Year\", \"Cause Category\"])['Report Number'].count()\n",
    "#incidents_by_year"
   ]
  },
  {
   "cell_type": "code",
   "execution_count": null,
   "metadata": {},
   "outputs": [],
   "source": [
    "incidents_by_year_plot = incidents_by_year.hvplot(kind='bar'\n",
    "                         , xlabel='Year'\n",
    "                         , ylabel='Number of Incidents'\n",
    "                         , ylim=(0, 800)\n",
    "                         , rot=90\n",
    "                         , width=400\n",
    "                         , height = 600                         \n",
    "                         , stacked=True\n",
    "                         , title = \"Number of Incidents by Year and Cause\"\n",
    "                         , cmap=[\n",
    "                             '#abcca9',\n",
    "                             '#a7bd86',\n",
    "                             '#acab62',\n",
    "                             '#b69643',\n",
    "                             '#c27d2e',\n",
    "                             '#cd5e2a',\n",
    "                             '#d43535']).opts(xrotation=45, legend_position='top_left', bgcolor='white', fontsize={'title': 12, 'labels': 10, 'xticks': 10, 'yticks': 10})\n",
    "\n",
    "incidents_by_year_plot"
   ]
  },
  {
   "cell_type": "markdown",
   "metadata": {},
   "source": [
    "## How do the number of incidents compare across states (with breakdown by year)?\n",
    "\n",
    "A heatmap showing the number of incidents per state by year. This section could also include a table allowing the user to view the states alphabetically or by number of incidents or a map color coded by number of incidents."
   ]
  },
  {
   "cell_type": "code",
   "execution_count": null,
   "metadata": {},
   "outputs": [],
   "source": [
    "state_count = pipeline_df.groupby([\"Accident State\"])['Report Number'].count().reset_index()\n",
    "#state_count"
   ]
  },
  {
   "cell_type": "code",
   "execution_count": null,
   "metadata": {},
   "outputs": [],
   "source": [
    "#Create Table of the Number of Incidents Over This Time Period by Number of Incidents\n",
    "number_of_incidents = state_count['Report Number']\n",
    "states = state_count['Accident State']\n",
    "state_table = hv.Table({\"State\": states, 'Number of Incidents': number_of_incidents}, ['State', 'Number of Incidents']).opts(height= 300\n",
    "                                                                                                                      , width = 300)                                                                                                                    \n",
    "state_table"
   ]
  },
  {
   "cell_type": "code",
   "execution_count": null,
   "metadata": {},
   "outputs": [],
   "source": [
    "#Get all state and year combos\n",
    "import itertools\n",
    "\n",
    "states = [\"AL\", \"AK\", \"AZ\", \"AR\", \"CA\", \"CO\", \"CT\", \"DC\", \"DE\", \"FL\", \"GA\", \n",
    "          \"HI\", \"ID\", \"IL\", \"IN\", \"IA\", \"KS\", \"KY\", \"LA\", \"ME\", \"MD\", \n",
    "          \"MA\", \"MI\", \"MN\", \"MS\", \"MO\", \"MT\", \"NE\", \"NV\", \"NH\", \"NJ\", \n",
    "          \"NM\", \"NY\", \"NC\", \"ND\", \"OH\", \"OK\", \"OR\", \"PA\", \"RI\", \"SC\", \n",
    "          \"SD\", \"TN\", \"TX\", \"UT\", \"VT\", \"VA\", \"WA\", \"WV\", \"WI\", \"WY\", \"PR\"]\n",
    "\n",
    "years = [\"2010\", \"2011\", \"2012\", \"2013\", \"2014\", \"2015\", \"2016\"]\n",
    "\n",
    "a = [states, years]\n",
    "\n",
    "combos = list(itertools.product(*a))\n",
    "\n",
    "state = [x[0] for x in combos]\n",
    "year = [x[1] for x in combos]\n",
    "\n",
    "#print(combos)\n",
    "#len(state)\n",
    "#len(year)"
   ]
  },
  {
   "cell_type": "code",
   "execution_count": null,
   "metadata": {},
   "outputs": [],
   "source": [
    "#Heatmap Data Preparation\n",
    "\n",
    "#Get All States and Years (for data Cleaning)\n",
    "data = {'Accident State': state, 'Accident Year': year}\n",
    "  \n",
    "# Create DataFrame \n",
    "states_years = pd.DataFrame(data) \n",
    "\n",
    "#Create State Year Count\n",
    "state_year_count = pipeline_df.groupby([\"Accident Year\", \"Accident State\"])['Report Number'].count().reset_index()\n",
    "\n",
    "state_year_count['Accident Year'] = state_year_count['Accident Year'].apply(lambda x: str(x))\n",
    "\n",
    "#Make the state-year combos with no reports equal to zero\n",
    "state_year_count = pd.merge(states_years, state_year_count, on = [\"Accident State\", \"Accident Year\"], how = \"outer\")\n",
    "\n",
    "#state_year_count[state_year_count['Accident State']==\"OR\"]\n",
    "\n",
    "state_year_count = state_year_count.fillna(0)\n"
   ]
  },
  {
   "cell_type": "code",
   "execution_count": null,
   "metadata": {},
   "outputs": [],
   "source": [
    "#Create Heatmap\n",
    "dataset = hv.Dataset(state_year_count, vdims=('Report Number','Number of Incidents'))\n",
    "\n",
    "incident_heatmap = hv.HeatMap(dataset.aggregate([\"Accident Year\", \"Accident State\"], np.sum),label='Number of Incidents by Year and State').opts(height=600\n",
    "                                                                                                                      , width = 400\n",
    "                                                                                                                      , colorbar=True\n",
    "                                                                                                                      , tools=['hover']\n",
    "                                                                                                                      , logz = True\n",
    "                                                                                                                      , cmap = 'Oranges'\n",
    "                                                                                                                      , xrotation=45\n",
    "                                                                                                                      , xlabel = \"Year\"\n",
    "                                                                                                                      , ylabel = \"State\")\n",
    "\n",
    "incident_heatmap"
   ]
  },
  {
   "cell_type": "markdown",
   "metadata": {},
   "source": [
    "## Where are the locations of the incidents and how to this vary by year?\n",
    "\n",
    "A map showing the locations of the pipeline incidents with ability to compare by year?"
   ]
  },
  {
   "cell_type": "code",
   "execution_count": null,
   "metadata": {},
   "outputs": [],
   "source": [
    "from bokeh.models import HoverTool\n",
    "hover_locations = HoverTool(tooltips=[('Accident Year', '$Accident Year')])\n",
    "\n",
    "pipeline_location_data = pipeline_df.copy()\n",
    "\n",
    "pipeline_location_data['Accident Year'] = pipeline_location_data['Accident Year'].apply(lambda x: str(x))\n",
    "\n",
    "pipeline_location_map = pipeline_location_data.hvplot.points('Accident Longitude', 'Accident Latitude', title = \"\", geo=True, alpha=0.2, legend = False,\n",
    "                       xlim=(-180, -30), ylim=(0, 72), tiles='CartoLight', frame_width = 600, c='#d43535', groupby='Accident Year', tools=[hover_locations]) #color='#d43535', c='Accident Year' \n",
    "\n",
    "\n",
    "pipeline_location_map.opts(xaxis=None, yaxis=None)"
   ]
  },
  {
   "cell_type": "code",
   "execution_count": null,
   "metadata": {},
   "outputs": [],
   "source": [
    "from bokeh.models import HoverTool\n",
    "hover_locations = HoverTool(tooltips=[('Accident Year', '$Accident Year')])\n",
    "\n",
    "pipeline_location_data = pipeline_df.copy()\n",
    "\n",
    "pipeline_location_data['Accident Year'] = pipeline_location_data['Accident Year'].apply(lambda x: str(x))\n",
    "\n",
    "pipeline_location_map_2 = pipeline_location_data.hvplot.points('Accident Longitude', 'Accident Latitude', title = \"\", geo=True, alpha=0.2, legend = True,\n",
    "                       xlim=(-180, -30), ylim=(0, 72), tiles='CartoLight', frame_width = 600, c='#61594e', tools=[hover_locations]) #color='#d43535', c='Accident Year' \n",
    "\n",
    "\n",
    "pipeline_location_map_2.opts(xaxis=None, yaxis=None)"
   ]
  },
  {
   "cell_type": "markdown",
   "metadata": {},
   "source": [
    "## How do the number of incidents compare across companies?\n",
    "\n",
    "Similar to above, a table showing the number of incidents per company either overall or by year. Again, the table should allow the user to view the states alphabetically or by number of incidents."
   ]
  },
  {
   "cell_type": "code",
   "execution_count": null,
   "metadata": {},
   "outputs": [],
   "source": [
    "company_count = pipeline_df.groupby([\"Operator Name\"])['Report Number'].count().reset_index()\n",
    "#company_count\n",
    "\n",
    "#Create Table of the Number of Incidents Over This Time Period by Number of Incidents\n",
    "number_of_incidents = company_count['Report Number']\n",
    "company = company_count['Operator Name']\n",
    "operator_table = hv.Table({\"Operator Name\": company, 'Number of Incidents': number_of_incidents}, ['Operator Name', 'Number of Incidents']).opts(height= 300, width = 600, title = \"Number of Incidents (2010-2016) by Operator\")                                                                                                                    \n",
    "operator_table\n"
   ]
  },
  {
   "cell_type": "code",
   "execution_count": null,
   "metadata": {},
   "outputs": [],
   "source": [
    "top_15_offenders = company_count.nlargest(15, 'Report Number')\n",
    "\n",
    "top_15_offenders"
   ]
  },
  {
   "cell_type": "markdown",
   "metadata": {},
   "source": [
    "## Final Visualizations (For Reference)"
   ]
  },
  {
   "cell_type": "code",
   "execution_count": null,
   "metadata": {},
   "outputs": [],
   "source": [
    "#finalized plots\n",
    "#incidents_by_year_plot + incident_heatmap + table\n",
    "#layout = hv.Layout(incidents_by_year_plot + incident_heatmap + operator_table).cols(2)\n",
    "#layout\n",
    "#hvplot.show(layout)\n",
    "#hvplot.show(pipeline_location_map)"
   ]
  },
  {
   "cell_type": "markdown",
   "metadata": {},
   "source": [
    "## Create Application"
   ]
  },
  {
   "cell_type": "code",
   "execution_count": null,
   "metadata": {},
   "outputs": [],
   "source": [
    "# The app's title, defined as an h2 HTML elemtn\n",
    "title = pn.pane.HTML(\n",
    "    \"<h2>Oil Pipeline Spills and Leakages in the United States (2010-2016)</h2>\",\n",
    "    style={\"width\": \"800px\", \"text-align\": \"center\"},\n",
    ")\n",
    "\n",
    "# Description of data included\n",
    "description = pn.pane.HTML(\n",
    "    \"Map and other visualizations show pipeline incidents from 2010 to 2016 in the United States as reported by PHMSA, the Pipeline and Hazardous Materials Safety Administration.\" ,\n",
    "    style={\"width\": \"800px\", \"text-align\": \"center\"},\n",
    ")\n",
    "\n",
    "\n",
    "# The title of the barplot and heatmap\n",
    "state_title = pn.pane.HTML(\n",
    "    \"<h4>How Do the Number of Incidents Vary by Year and Location?</h4>\",\n",
    "    style={\"width\": \"800px\", \"text-align\": \"center\"},\n",
    ")\n",
    "\n",
    "# The title of the table\n",
    "operator_title = pn.pane.HTML(\n",
    "    \"<h4>How Do the Number of Incidents Vary by Operator?</h4>\",\n",
    "    style={\"width\": \"800px\", \"text-align\": \"center\"},\n",
    ")\n",
    "\n",
    "# The title of the table\n",
    "census_title = pn.pane.HTML(\n",
    "    \"<h4>What are the Demographic Trends (by County) Associated with the Pipeline Locations?</h4>\",\n",
    "    style={\"width\": \"800px\", \"text-align\": \"center\"},\n",
    ")"
   ]
  },
  {
   "cell_type": "code",
   "execution_count": null,
   "metadata": {},
   "outputs": [],
   "source": [
    "# Layout the dashboard\n",
    "panel = pn.Column(\n",
    "    pn.Row(title),\n",
    "    pn.Row(description),\n",
    "    pn.Row(pipeline_location_map), #change this to remove \"_2\" if want original plot\n",
    "    pn.Row(state_title),\n",
    "    pn.Row(incidents_by_year_plot, incident_heatmap),\n",
    "    pn.Row(operator_title),\n",
    "    pn.Row(pn.Spacer(width=25), operator_table),\n",
    "    #pn.Row(census_title),\n",
    "    #pn.Row(demographic_pipeline_location_map),\n",
    "    width=1200,\n",
    "    align=\"center\",\n",
    ")"
   ]
  },
  {
   "cell_type": "code",
   "execution_count": null,
   "metadata": {},
   "outputs": [],
   "source": [
    "panel.servable()"
   ]
  },
  {
   "cell_type": "code",
   "execution_count": null,
   "metadata": {},
   "outputs": [],
   "source": [
    "from bokeh.resources import INLINE\n",
    "panel.save('test_2.html')"
   ]
  },
  {
   "cell_type": "markdown",
   "metadata": {},
   "source": [
    "# Additional Visualizations Not Including in Final Report"
   ]
  },
  {
   "cell_type": "markdown",
   "metadata": {},
   "source": [
    "**How do the number of overall deaths, injuries, and property damages related to spills vary by year and by state?**\n",
    "\n",
    "Three separate bar charts side-by-side showing the number of deaths, injuries, and property damages per year and by state."
   ]
  },
  {
   "cell_type": "markdown",
   "metadata": {},
   "source": [
    "Not including the below few plots because the injury, fatality, costs seem to have some data quality issues."
   ]
  },
  {
   "cell_type": "code",
   "execution_count": null,
   "metadata": {},
   "outputs": [],
   "source": [
    "costs_injuries_df = pipeline_by_year_df.melt(id_vars=[\"Accident Year\"], value_vars=[\"All Injuries\", \"All Fatalities\", \"All Costs\"], var_name=\"incident_details\")\n",
    "#costs_injuries_df"
   ]
  },
  {
   "cell_type": "code",
   "execution_count": null,
   "metadata": {},
   "outputs": [],
   "source": [
    "costs_injuries_chart = costs_injuries_df.hvplot(x='Accident Year', \n",
    "                                 groupby='incident_details', \n",
    "                                 width=400, \n",
    "                                 dynamic=False, kind='bar')\n",
    "\n",
    "costs_injuries_chart "
   ]
  },
  {
   "cell_type": "code",
   "execution_count": null,
   "metadata": {},
   "outputs": [],
   "source": [
    "costs = costs_injuries_chart ['All Costs'].relabel('All Costs')\n",
    "injuries = costs_injuries_chart ['All Injuries'].relabel('Injuries') \n",
    "fatalities = costs_injuries_chart ['All Fatalities'].relabel('Fatalities')\n",
    "\n",
    "combined = injuries + fatalities    \n",
    "combined\n",
    "\n",
    "#However, in the initial dataset this field seems like maybe not that accurate, since blank for most rows - maybe not required to report?"
   ]
  },
  {
   "cell_type": "code",
   "execution_count": null,
   "metadata": {},
   "outputs": [],
   "source": [
    "fatalities = pipeline_by_state_df['All Fatalities']\n",
    "injuries = pipeline_by_state_df['All Injuries']\n",
    "costs = pipeline_by_state_df['All Costs']\n",
    "states = pipeline_by_state_df['Accident State']\n",
    "\n",
    "table = hv.Table({'State': states, 'Fatalities': fatalities, 'Injuries': injuries, 'Costs': costs},['State', 'Fatalities', 'Injuries', 'Costs'], groupby=\"Accident Year\")\n",
    "\n",
    "table"
   ]
  },
  {
   "cell_type": "markdown",
   "metadata": {},
   "source": [
    "### Other (Secondary) Visualization Ideas"
   ]
  },
  {
   "cell_type": "markdown",
   "metadata": {},
   "source": [
    "- Map color coded by the number of incidents, either over all years or with a drop down by year\n",
    "- Visualization with a dropdown of costs and can select different types of costs but also the overall costs\n",
    "- In map where have the locations of all of the pipeline incidents, see if there is a way where there is a table next to it and you can select the pipeline incident and it will be highlighted on the table with information about location, operator name, fatalities, costs, cause, etc. (see small example below)"
   ]
  },
  {
   "cell_type": "markdown",
   "metadata": {},
   "source": [
    "**What are the geographical locations of the pipeline spills and how are the concentration of spills related to features such as company involved, number of deaths, monetary costs, etc.?**\n",
    "\n",
    "A map with a point for each incident color coded by, for example, company involved. I would like to make this plot interactive by allowing the user, for example, to select a particular company and just see incidents related to that company. I think a heatmap could also work for this question."
   ]
  }
 ],
 "metadata": {
  "kernelspec": {
   "display_name": "Python 3",
   "language": "python",
   "name": "python3"
  },
  "language_info": {
   "codemirror_mode": {
    "name": "ipython",
    "version": 3
   },
   "file_extension": ".py",
   "mimetype": "text/x-python",
   "name": "python",
   "nbconvert_exporter": "python",
   "pygments_lexer": "ipython3",
   "version": "3.6.9"
  }
 },
 "nbformat": 4,
 "nbformat_minor": 2
}
